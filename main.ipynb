{
 "cells": [
  {
   "cell_type": "code",
   "execution_count": 1,
   "id": "c6046be7",
   "metadata": {},
   "outputs": [
    {
     "data": {
      "application/javascript": [
       "\n",
       "try {\n",
       "require(['notebook/js/codecell'], function(codecell) {\n",
       "  codecell.CodeCell.options_default.highlight_modes[\n",
       "      'magic_text/x-csrc'] = {'reg':[/^%%microblaze/]};\n",
       "  Jupyter.notebook.events.one('kernel_ready.Kernel', function(){\n",
       "      Jupyter.notebook.get_cells().map(function(cell){\n",
       "          if (cell.cell_type == 'code'){ cell.auto_highlight(); } }) ;\n",
       "  });\n",
       "});\n",
       "} catch (e) {};\n"
      ]
     },
     "metadata": {},
     "output_type": "display_data"
    },
    {
     "data": {
      "application/javascript": [
       "\n",
       "try {\n",
       "require(['notebook/js/codecell'], function(codecell) {\n",
       "  codecell.CodeCell.options_default.highlight_modes[\n",
       "      'magic_text/x-csrc'] = {'reg':[/^%%pybind11/]};\n",
       "  Jupyter.notebook.events.one('kernel_ready.Kernel', function(){\n",
       "      Jupyter.notebook.get_cells().map(function(cell){\n",
       "          if (cell.cell_type == 'code'){ cell.auto_highlight(); } }) ;\n",
       "  });\n",
       "});\n",
       "} catch (e) {};\n"
      ]
     },
     "metadata": {},
     "output_type": "display_data"
    }
   ],
   "source": [
    "from pynq import Overlay"
   ]
  },
  {
   "cell_type": "code",
   "execution_count": 2,
   "id": "25194996",
   "metadata": {},
   "outputs": [],
   "source": [
    "ol = Overlay(\"design_1.bit\")"
   ]
  },
  {
   "cell_type": "code",
   "execution_count": 3,
   "id": "5b370123",
   "metadata": {},
   "outputs": [],
   "source": [
    "customIOP = {\n",
    "    'ip_name': ol.CustomIOP.description[\"memories\"][\"axi_bram_ctrl_0\"][\"fullpath\"], #'CustomIOP/axi_bram_ctrl_0',\n",
    "    'rst_name': \"xlslice_0\", #'mb_iop_pmoda_reset',\n",
    "    'intr_pin_name': \"CustomIOP/dff_en_reset_vector_0/q\", #'iop_pmoda/dff_en_reset_vector_0/q'\n",
    "    'intr_ack_name': \"xlslice_1\"#'mb_iop_pmoda_intr_ack'\n",
    "    }"
   ]
  },
  {
   "cell_type": "code",
   "execution_count": 4,
   "id": "cf61a6ff",
   "metadata": {},
   "outputs": [],
   "source": [
    "from pynq.lib import PynqMicroblaze"
   ]
  },
  {
   "cell_type": "code",
   "execution_count": 5,
   "id": "f2b8a75f",
   "metadata": {},
   "outputs": [],
   "source": [
    "MAILBOX_OFFSET = 0xF000\n",
    "MAILBOX_SIZE = 0x1000\n",
    "MAILBOX_PY2IOP_CMD_OFFSET = 0xffc\n",
    "MAILBOX_PY2IOP_ADDR_OFFSET = 0xff8\n",
    "MAILBOX_PY2IOP_DATA_OFFSET = 0xf00\n",
    "\n",
    "WRITE_LED = 0x9\n",
    "READ_LED = 0x23\n",
    "TEST_CYCLE = 0X69"
   ]
  },
  {
   "cell_type": "code",
   "execution_count": 6,
   "id": "e12d3701",
   "metadata": {},
   "outputs": [],
   "source": [
    "import time\n",
    "class MB(PynqMicroblaze):\n",
    "    def __init__(self, mb_info, mb_program):\n",
    "        super().__init__(mb_info, mb_program)\n",
    "\n",
    "    def write_mailbox(self, data_offset, data):\n",
    "        offset = MAILBOX_OFFSET + data_offset\n",
    "        self.write(offset, data)\n",
    "\n",
    "    def read_mailbox(self, data_offset, num_words=1):\n",
    "        offset = MAILBOX_OFFSET + data_offset\n",
    "        return self.read(offset, num_words)\n",
    "\n",
    "    def write_blocking_command(self, command):\n",
    "        self.write(MAILBOX_OFFSET + MAILBOX_PY2IOP_CMD_OFFSET, command)\n",
    "        while self.read(MAILBOX_OFFSET + MAILBOX_PY2IOP_CMD_OFFSET) != 0:\n",
    "            pass\n",
    "    def write_blocking_command_addr(self, addr, command):\n",
    "        self.write(addr, command)\n",
    "        while self.read(addr) != 0:\n",
    "            pass        \n",
    "\n",
    "    def write_non_blocking_command(self, command):\n",
    "        self.write(MAILBOX_OFFSET + MAILBOX_PY2IOP_CMD_OFFSET, command)"
   ]
  },
  {
   "cell_type": "code",
   "execution_count": 7,
   "id": "f607aae9",
   "metadata": {},
   "outputs": [],
   "source": [
    "mb_info = customIOP\n",
    "\n",
    "_mb = MB(mb_info, \"main.bin\")"
   ]
  },
  {
   "cell_type": "code",
   "execution_count": 8,
   "id": "f6a92013",
   "metadata": {},
   "outputs": [
    {
     "data": {
      "text/plain": [
       "'RUNNING'"
      ]
     },
     "execution_count": 8,
     "metadata": {},
     "output_type": "execute_result"
    }
   ],
   "source": [
    "_mb.state"
   ]
  },
  {
   "cell_type": "code",
   "execution_count": null,
   "id": "e8710b68",
   "metadata": {},
   "outputs": [],
   "source": [
    "_mb.write_mailbox(0, 1)\n",
    "_mb.write_blocking_command(WRITE_LED)"
   ]
  },
  {
   "cell_type": "code",
   "execution_count": 9,
   "id": "49898b7c",
   "metadata": {},
   "outputs": [
    {
     "data": {
      "text/plain": [
       "0"
      ]
     },
     "execution_count": 9,
     "metadata": {},
     "output_type": "execute_result"
    }
   ],
   "source": [
    "_mb.write_mailbox(0, 0)\n",
    "_mb.write_blocking_command(READ_LED)\n",
    "_mb.read_mailbox(0x0)"
   ]
  },
  {
   "cell_type": "code",
   "execution_count": 14,
   "id": "97c4edf1",
   "metadata": {},
   "outputs": [],
   "source": [
    "_mb.write_blocking_command(TEST_CYCLE)"
   ]
  },
  {
   "cell_type": "code",
   "execution_count": null,
   "id": "b395a95b",
   "metadata": {},
   "outputs": [],
   "source": []
  }
 ],
 "metadata": {
  "kernelspec": {
   "display_name": "Python 3",
   "language": "python",
   "name": "python3"
  },
  "language_info": {
   "codemirror_mode": {
    "name": "ipython",
    "version": 3
   },
   "file_extension": ".py",
   "mimetype": "text/x-python",
   "name": "python",
   "nbconvert_exporter": "python",
   "pygments_lexer": "ipython3",
   "version": "3.8.2"
  }
 },
 "nbformat": 4,
 "nbformat_minor": 5
}
